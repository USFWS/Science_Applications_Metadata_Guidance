{
  "cells": [
    {
      "cell_type": "raw",
      "metadata": {},
      "source": [
        "---\n",
        "title: \"USFWS Science Applications Metadata Guidance INDEX\"\n",
        "subtitle: \"A guide to MDEditor and ScienceBase for SA\"\n",
        "page-layout: full\n",
        "date: today\n",
        "date-format: \"D MMMM, YYYY\"\n",
        "\n",
        "---"
      ],
      "id": "f86b5f70"
    },
    {
      "cell_type": "markdown",
      "metadata": {},
      "source": [
        "_Note: This is a working draft that will continue to be edited. **Last updated:** **{{< meta date >}}**. Please refresh this manual every time you \n",
        "open it to ensure you are viewing the most recent version._\n",
        "\n",
        "{r format(Sys.time(), '%d %B, %Y')}\n",
        "\n",
        "`r Sys.Date()`\n"
      ],
      "id": "c19bbe79"
    },
    {
      "cell_type": "code",
      "metadata": {},
      "source": [
        "radius = 5"
      ],
      "id": "ac1d8c81",
      "execution_count": null,
      "outputs": []
    },
    {
      "cell_type": "markdown",
      "metadata": {},
      "source": [
        "The radius of the circle is `{python} radius`\n",
        "\n",
        "Last compiled on `r format(Sys.time(), '%d %B, %Y')`\n",
        "\n",
        "If you have questions/concerns regarding this guidance, please contact the \n",
        "FWS SA National Data Steward \\(sadatasteward@fws.gov\\) or \n",
        "Blake Massey \\(blake_massey@fws.gov\\).\n",
        "\n",
        "## Introduction\n",
        "\n",
        "This manual describes the requirements and best practices for the creation of \n",
        "high-quality and consistent metadata records for projects and products for \n",
        "USFWS Science Applications. These metadata requirements conform to the \n",
        "standardized metadata format agreed upon by the SA Data Management Working Group \n",
        "and meets USFWS policy requirements for data management. This metadata drives \n",
        "the unified SA Science Catalog, where SA projects and products are discoverable, \n",
        "accessible, and usable.\n",
        "\n",
        "## USFWS Data Management Integration\n",
        "\n",
        "Metadata creation is part of the Maintain step of the [Data Management Lifecycle](https://doimspp.sharepoint.com/sites/fws-data/SitePages/Data_management_life_cycle_home.aspx).\n",
        "Guidance is also available in the [USFWS Data Management Handbook.](https://doimspp.sharepoint.com/sites/fws-data/Shared%20Documents/References/DataManagementHandbook.pdf?web=1)\n",
        "\n",
        "### Metadata and mdEditor\n",
        "\n",
        "The metadata editing tool employed to create and support metadata requirements \n",
        "is mdEditor. This tool was an extension of an initiative by the [Alaska Data Integration Working Group](http://www.adiwg.org/about/) \\([ADIwg](content/20_glossary_of_terms.qmd#adiwg)\\) \n",
        "and adopted by SA.\n",
        "\n",
        "This manual refers to the creation of SA metadata specifically. If you want \n",
        "information on the creation of other metadata records using mdEditor, or more \n",
        "information in general, please refer to the \n",
        "[mdEditor User Manual](https://adiwg.gitbooks.io/mdeditor/content/).\n",
        "\n",
        "## Who Should Use this Manual\n",
        "\n",
        "This guide is for anyone creating or updating metadata for SA-related projects \n",
        "and products. The primary purpose is to describe in detail how to develop \n",
        "metadata for items for inclusion in the SA Science Catalog, but the tool can \n",
        "also be used to track any project or funding.\n",
        "\n",
        "The metadata requirements described here apply to science projects and products \n",
        "that were funded by SA \n",
        "\\(for more details, see the [Project, Products, and Contacts](content/04_projects_products_contacts.qmd) section\\).\n",
        "\n",
        "## How to Use this Manual\n",
        "\n",
        "Directly accessing this manual from the internet is the recommended way to use \n",
        "this manual. By doing so, you will guarantee that you are using the current\n",
        "version since it is a live document and any updates can be made instantly. The \n",
        "online version will also have the best functionality and graphical display.\n",
        "\n",
        "<!-- REMOVE THIS ARROW AND ARROW AT END TO SHOW THIS SECTION AGAIN\n",
        "If needed, you can download this manual as a PDF and save a copy to your \n",
        "computer for printing or offline use. If you choose this method, be sure to \n",
        "reference the online version regularly and save a new PDF as updates are made \n",
        "to the online version. Also note that not all of the formatting will be exactly \n",
        "the same as the online version.\n",
        "\n",
        ":::{.callout-note}\n",
        "Some of the stylized text boxes \\(like this one\\) will not translate to the PDF \n",
        "exactly. The text will still be outlined with a background color, but the icon \n",
        "above the text will not display in the PDF.\n",
        ":::\n",
        "-->\n",
        "\n",
        "## Disclaimer\n",
        "\n",
        "This manual was developed while mdEditor was also being developed. Due to this, \n",
        "there may be minor discrepancies between screenshots in the manual and the \n",
        "current production version of mdEditor.\n"
      ],
      "id": "fa484155"
    }
  ],
  "metadata": {
    "kernelspec": {
      "display_name": "Python 3",
      "language": "python",
      "name": "python3"
    }
  },
  "nbformat": 4,
  "nbformat_minor": 5
}